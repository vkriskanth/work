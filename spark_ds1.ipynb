{
 "cells": [
  {
   "cell_type": "code",
   "execution_count": 3,
   "metadata": {},
   "outputs": [],
   "source": [
    "#practising this https://towardsdatascience.com/sql-at-scale-with-apache-spark-sql-and-dataframes-concepts-architecture-and-examples-c567853a702f\n",
    "\n",
    "import pandas as pd\n",
    "import matplotlib.pyplot as plt\n",
    "plt.style.use('fivethirtyeight')"
   ]
  },
  {
   "cell_type": "code",
   "execution_count": 2,
   "metadata": {},
   "outputs": [
    {
     "name": "stdout",
     "output_type": "stream",
     "text": [
      "Collecting matplotlib\n",
      "\u001b[?25l  Downloading https://files.pythonhosted.org/packages/4a/5c/ced2e398aad26b24a7beaa2b22830811dfc953c73a0b3b930e26c12d1d19/matplotlib-3.2.2-cp37-cp37m-macosx_10_9_x86_64.whl (12.5MB)\n",
      "\u001b[K     |████████████████████████████████| 12.5MB 18.7MB/s eta 0:00:01\n",
      "\u001b[?25hRequirement already satisfied: python-dateutil>=2.1 in /Users/kanthkr/opt/anaconda3/envs/datascience/lib/python3.7/site-packages (from matplotlib) (2.8.0)\n",
      "Requirement already satisfied: numpy>=1.11 in /Users/kanthkr/opt/anaconda3/envs/datascience/lib/python3.7/site-packages (from matplotlib) (1.17.3)\n",
      "Collecting kiwisolver>=1.0.1 (from matplotlib)\n",
      "\u001b[?25l  Downloading https://files.pythonhosted.org/packages/81/c5/9831f281c6fb57945e83fdf39ff036cacfdc84aa1988bb3150b330533050/kiwisolver-1.2.0-cp37-cp37m-macosx_10_9_x86_64.whl (60kB)\n",
      "\u001b[K     |████████████████████████████████| 61kB 12.5MB/s eta 0:00:01\n",
      "\u001b[?25hCollecting cycler>=0.10 (from matplotlib)\n",
      "  Downloading https://files.pythonhosted.org/packages/f7/d2/e07d3ebb2bd7af696440ce7e754c59dd546ffe1bbe732c8ab68b9c834e61/cycler-0.10.0-py2.py3-none-any.whl\n",
      "Collecting pyparsing!=2.0.4,!=2.1.2,!=2.1.6,>=2.0.1 (from matplotlib)\n",
      "\u001b[?25l  Downloading https://files.pythonhosted.org/packages/8a/bb/488841f56197b13700afd5658fc279a2025a39e22449b7cf29864669b15d/pyparsing-2.4.7-py2.py3-none-any.whl (67kB)\n",
      "\u001b[K     |████████████████████████████████| 71kB 11.4MB/s eta 0:00:01\n",
      "\u001b[?25hRequirement already satisfied: six>=1.5 in /Users/kanthkr/opt/anaconda3/envs/datascience/lib/python3.7/site-packages (from python-dateutil>=2.1->matplotlib) (1.12.0)\n",
      "Installing collected packages: kiwisolver, cycler, pyparsing, matplotlib\n",
      "Successfully installed cycler-0.10.0 kiwisolver-1.2.0 matplotlib-3.2.2 pyparsing-2.4.7\n",
      "Note: you may need to restart the kernel to use updated packages.\n"
     ]
    }
   ],
   "source": [
    "pip install matplotlib"
   ]
  },
  {
   "cell_type": "code",
   "execution_count": 9,
   "metadata": {},
   "outputs": [],
   "source": [
    "#downloading the data file\n",
    "import urllib.request\n",
    "\n",
    "#urllib.urlretrieve(\"http://kdd.ics.uci.edu/databases/kddcup99/kddcup.data_10_percent.gz\", \"/tmp/kddcup_data.gz\")\n",
    "url = \"http://kdd.ics.uci.edu/databases/kddcup99/kddcup.data_10_percent.gz\"\n",
    "filename=\"kddcup.data_10_percent.gz\"\n",
    "data = urllib.request.urlretrieve(url,filename)"
   ]
  },
  {
   "cell_type": "code",
   "execution_count": 10,
   "metadata": {},
   "outputs": [],
   "source": [
    "data_file = \"/Users/kanthkr/work/spark/spark_programs/kddcup.data_10_percent.gz\"\n",
    "#building a spark session\n",
    "from pyspark.sql import SparkSession\n",
    "spark = SparkSession \\\n",
    "        .builder \\\n",
    "        .appName(\"Python Spark SQL basic example\") \\\n",
    "        .config(\"spark.some.config.option\",\"some-value\") \\\n",
    "        .getOrCreate()\n"
   ]
  },
  {
   "cell_type": "code",
   "execution_count": 11,
   "metadata": {},
   "outputs": [],
   "source": [
    "#reading the text file \n",
    "sc = spark.sparkContext\n",
    "raw_rdd = sc.textFile(data_file).cache()"
   ]
  },
  {
   "cell_type": "code",
   "execution_count": 13,
   "metadata": {},
   "outputs": [
    {
     "data": {
      "text/plain": [
       "pyspark.rdd.RDD"
      ]
     },
     "execution_count": 13,
     "metadata": {},
     "output_type": "execute_result"
    }
   ],
   "source": [
    "raw_rdd.take(5)\n",
    "type(raw_rdd)"
   ]
  },
  {
   "cell_type": "code",
   "execution_count": 14,
   "metadata": {},
   "outputs": [
    {
     "data": {
      "text/plain": [
       "[['0',\n",
       "  'tcp',\n",
       "  'http',\n",
       "  'SF',\n",
       "  '181',\n",
       "  '5450',\n",
       "  '0',\n",
       "  '0',\n",
       "  '0',\n",
       "  '0',\n",
       "  '0',\n",
       "  '1',\n",
       "  '0',\n",
       "  '0',\n",
       "  '0',\n",
       "  '0',\n",
       "  '0',\n",
       "  '0',\n",
       "  '0',\n",
       "  '0',\n",
       "  '0',\n",
       "  '0',\n",
       "  '8',\n",
       "  '8',\n",
       "  '0.00',\n",
       "  '0.00',\n",
       "  '0.00',\n",
       "  '0.00',\n",
       "  '1.00',\n",
       "  '0.00',\n",
       "  '0.00',\n",
       "  '9',\n",
       "  '9',\n",
       "  '1.00',\n",
       "  '0.00',\n",
       "  '0.11',\n",
       "  '0.00',\n",
       "  '0.00',\n",
       "  '0.00',\n",
       "  '0.00',\n",
       "  '0.00',\n",
       "  'normal.'],\n",
       " ['0',\n",
       "  'tcp',\n",
       "  'http',\n",
       "  'SF',\n",
       "  '239',\n",
       "  '486',\n",
       "  '0',\n",
       "  '0',\n",
       "  '0',\n",
       "  '0',\n",
       "  '0',\n",
       "  '1',\n",
       "  '0',\n",
       "  '0',\n",
       "  '0',\n",
       "  '0',\n",
       "  '0',\n",
       "  '0',\n",
       "  '0',\n",
       "  '0',\n",
       "  '0',\n",
       "  '0',\n",
       "  '8',\n",
       "  '8',\n",
       "  '0.00',\n",
       "  '0.00',\n",
       "  '0.00',\n",
       "  '0.00',\n",
       "  '1.00',\n",
       "  '0.00',\n",
       "  '0.00',\n",
       "  '19',\n",
       "  '19',\n",
       "  '1.00',\n",
       "  '0.00',\n",
       "  '0.05',\n",
       "  '0.00',\n",
       "  '0.00',\n",
       "  '0.00',\n",
       "  '0.00',\n",
       "  '0.00',\n",
       "  'normal.']]"
      ]
     },
     "execution_count": 14,
     "metadata": {},
     "output_type": "execute_result"
    }
   ],
   "source": [
    "#converting the raw rdd to csv\n",
    "csv_rdd = raw_rdd.map(lambda row: row.split(\",\"))\n",
    "csv_rdd.take(2)"
   ]
  },
  {
   "cell_type": "code",
   "execution_count": 15,
   "metadata": {},
   "outputs": [
    {
     "name": "stdout",
     "output_type": "stream",
     "text": [
      "<class 'list'>\n"
     ]
    }
   ],
   "source": [
    "print(type(csv_rdd.take(2)))"
   ]
  },
  {
   "cell_type": "code",
   "execution_count": 16,
   "metadata": {},
   "outputs": [
    {
     "data": {
      "text/plain": [
       "42"
      ]
     },
     "execution_count": 16,
     "metadata": {},
     "output_type": "execute_result"
    }
   ],
   "source": [
    "len(csv_rdd.take(1)[0])"
   ]
  },
  {
   "cell_type": "code",
   "execution_count": 17,
   "metadata": {},
   "outputs": [
    {
     "data": {
      "text/plain": [
       "[Row(dst_bytes=5450, duration=0, flag='SF', hot=0, label='normal.', num_compromised=0, num_failed_logins=0, num_file_creations=0, num_root=0, protocol_type='tcp', service='http', src_bytes=181, su_attempted='0', urgent=0, wrong_fragment=0),\n",
       " Row(dst_bytes=486, duration=0, flag='SF', hot=0, label='normal.', num_compromised=0, num_failed_logins=0, num_file_creations=0, num_root=0, protocol_type='tcp', service='http', src_bytes=239, su_attempted='0', urgent=0, wrong_fragment=0),\n",
       " Row(dst_bytes=1337, duration=0, flag='SF', hot=0, label='normal.', num_compromised=0, num_failed_logins=0, num_file_creations=0, num_root=0, protocol_type='tcp', service='http', src_bytes=235, su_attempted='0', urgent=0, wrong_fragment=0),\n",
       " Row(dst_bytes=1337, duration=0, flag='SF', hot=0, label='normal.', num_compromised=0, num_failed_logins=0, num_file_creations=0, num_root=0, protocol_type='tcp', service='http', src_bytes=219, su_attempted='0', urgent=0, wrong_fragment=0),\n",
       " Row(dst_bytes=2032, duration=0, flag='SF', hot=0, label='normal.', num_compromised=0, num_failed_logins=0, num_file_creations=0, num_root=0, protocol_type='tcp', service='http', src_bytes=217, su_attempted='0', urgent=0, wrong_fragment=0)]"
      ]
     },
     "execution_count": 17,
     "metadata": {},
     "output_type": "execute_result"
    }
   ],
   "source": [
    "# out of the above 42 columns we are only focussed on a few\n",
    "from pyspark.sql import Row\n",
    "\n",
    "parsed_rdd = csv_rdd.map(lambda r: Row(\n",
    "    duration=int(r[0]), \n",
    "    protocol_type=r[1],\n",
    "    service=r[2],\n",
    "    flag=r[3],\n",
    "    src_bytes=int(r[4]),\n",
    "    dst_bytes=int(r[5]),\n",
    "    wrong_fragment=int(r[7]),\n",
    "    urgent=int(r[8]),\n",
    "    hot=int(r[9]),\n",
    "    num_failed_logins=int(r[10]),\n",
    "    num_compromised=int(r[12]),\n",
    "    su_attempted=r[14],\n",
    "    num_root=int(r[15]),\n",
    "    num_file_creations=int(r[16]),\n",
    "    label=r[-1]\n",
    "    )\n",
    ")\n",
    "parsed_rdd.take(5)"
   ]
  },
  {
   "cell_type": "code",
   "execution_count": 18,
   "metadata": {},
   "outputs": [],
   "source": [
    "#create a dataframe out of the rdd\n",
    "df = spark.createDataFrame(parsed_rdd)"
   ]
  },
  {
   "cell_type": "code",
   "execution_count": 21,
   "metadata": {},
   "outputs": [
    {
     "data": {
      "text/plain": [
       "[Row(dst_bytes=5450, duration=0, flag='SF', hot=0, label='normal.', num_compromised=0, num_failed_logins=0, num_file_creations=0, num_root=0, protocol_type='tcp', service='http', src_bytes=181, su_attempted='0', urgent=0, wrong_fragment=0),\n",
       " Row(dst_bytes=486, duration=0, flag='SF', hot=0, label='normal.', num_compromised=0, num_failed_logins=0, num_file_creations=0, num_root=0, protocol_type='tcp', service='http', src_bytes=239, su_attempted='0', urgent=0, wrong_fragment=0),\n",
       " Row(dst_bytes=1337, duration=0, flag='SF', hot=0, label='normal.', num_compromised=0, num_failed_logins=0, num_file_creations=0, num_root=0, protocol_type='tcp', service='http', src_bytes=235, su_attempted='0', urgent=0, wrong_fragment=0),\n",
       " Row(dst_bytes=1337, duration=0, flag='SF', hot=0, label='normal.', num_compromised=0, num_failed_logins=0, num_file_creations=0, num_root=0, protocol_type='tcp', service='http', src_bytes=219, su_attempted='0', urgent=0, wrong_fragment=0),\n",
       " Row(dst_bytes=2032, duration=0, flag='SF', hot=0, label='normal.', num_compromised=0, num_failed_logins=0, num_file_creations=0, num_root=0, protocol_type='tcp', service='http', src_bytes=217, su_attempted='0', urgent=0, wrong_fragment=0),\n",
       " Row(dst_bytes=2032, duration=0, flag='SF', hot=0, label='normal.', num_compromised=0, num_failed_logins=0, num_file_creations=0, num_root=0, protocol_type='tcp', service='http', src_bytes=217, su_attempted='0', urgent=0, wrong_fragment=0),\n",
       " Row(dst_bytes=1940, duration=0, flag='SF', hot=0, label='normal.', num_compromised=0, num_failed_logins=0, num_file_creations=0, num_root=0, protocol_type='tcp', service='http', src_bytes=212, su_attempted='0', urgent=0, wrong_fragment=0),\n",
       " Row(dst_bytes=4087, duration=0, flag='SF', hot=0, label='normal.', num_compromised=0, num_failed_logins=0, num_file_creations=0, num_root=0, protocol_type='tcp', service='http', src_bytes=159, su_attempted='0', urgent=0, wrong_fragment=0),\n",
       " Row(dst_bytes=151, duration=0, flag='SF', hot=0, label='normal.', num_compromised=0, num_failed_logins=0, num_file_creations=0, num_root=0, protocol_type='tcp', service='http', src_bytes=210, su_attempted='0', urgent=0, wrong_fragment=0),\n",
       " Row(dst_bytes=786, duration=0, flag='SF', hot=1, label='normal.', num_compromised=0, num_failed_logins=0, num_file_creations=0, num_root=0, protocol_type='tcp', service='http', src_bytes=212, su_attempted='0', urgent=0, wrong_fragment=0)]"
      ]
     },
     "execution_count": 21,
     "metadata": {},
     "output_type": "execute_result"
    }
   ],
   "source": [
    "df.head(10)"
   ]
  },
  {
   "cell_type": "code",
   "execution_count": 22,
   "metadata": {},
   "outputs": [
    {
     "name": "stdout",
     "output_type": "stream",
     "text": [
      "root\n",
      " |-- dst_bytes: long (nullable = true)\n",
      " |-- duration: long (nullable = true)\n",
      " |-- flag: string (nullable = true)\n",
      " |-- hot: long (nullable = true)\n",
      " |-- label: string (nullable = true)\n",
      " |-- num_compromised: long (nullable = true)\n",
      " |-- num_failed_logins: long (nullable = true)\n",
      " |-- num_file_creations: long (nullable = true)\n",
      " |-- num_root: long (nullable = true)\n",
      " |-- protocol_type: string (nullable = true)\n",
      " |-- service: string (nullable = true)\n",
      " |-- src_bytes: long (nullable = true)\n",
      " |-- su_attempted: string (nullable = true)\n",
      " |-- urgent: long (nullable = true)\n",
      " |-- wrong_fragment: long (nullable = true)\n",
      "\n"
     ]
    }
   ],
   "source": [
    "df.printSchema()"
   ]
  },
  {
   "cell_type": "code",
   "execution_count": 24,
   "metadata": {},
   "outputs": [],
   "source": [
    "#create a view on top of rdd\n",
    "df.createOrReplaceTempView(\"connections\")"
   ]
  },
  {
   "cell_type": "code",
   "execution_count": 26,
   "metadata": {},
   "outputs": [
    {
     "name": "stdout",
     "output_type": "stream",
     "text": [
      "+-------------+------+\n",
      "|protocol_type|  freq|\n",
      "+-------------+------+\n",
      "|         icmp|283602|\n",
      "|          tcp|190065|\n",
      "|          udp| 20354|\n",
      "+-------------+------+\n",
      "\n"
     ]
    }
   ],
   "source": [
    "#now perform sql to get the answers\n",
    "protocols = spark.sql(\"\"\"\n",
    "            SELECT protocol_type, count(*) as freq\n",
    "                           FROM connections\n",
    "                           GROUP BY protocol_type\n",
    "                           ORDER BY 2 DESC\"\"\")\n",
    "protocols.show()"
   ]
  },
  {
   "cell_type": "code",
   "execution_count": 28,
   "metadata": {},
   "outputs": [
    {
     "name": "stdout",
     "output_type": "stream",
     "text": [
      "+----------------+------+\n",
      "|           label|  freq|\n",
      "+----------------+------+\n",
      "|          smurf.|280790|\n",
      "|        neptune.|107201|\n",
      "|         normal.| 97278|\n",
      "|           back.|  2203|\n",
      "|          satan.|  1589|\n",
      "|        ipsweep.|  1247|\n",
      "|      portsweep.|  1040|\n",
      "|    warezclient.|  1020|\n",
      "|       teardrop.|   979|\n",
      "|            pod.|   264|\n",
      "|           nmap.|   231|\n",
      "|   guess_passwd.|    53|\n",
      "|buffer_overflow.|    30|\n",
      "|           land.|    21|\n",
      "|    warezmaster.|    20|\n",
      "|           imap.|    12|\n",
      "|        rootkit.|    10|\n",
      "|     loadmodule.|     9|\n",
      "|      ftp_write.|     8|\n",
      "|       multihop.|     7|\n",
      "+----------------+------+\n",
      "only showing top 20 rows\n",
      "\n"
     ]
    }
   ],
   "source": [
    "labels = spark.sql(\"\"\"\n",
    "             SELECT label, count(*) as freq\n",
    "                           FROM connections\n",
    "                           GROUP BY label\n",
    "                           ORDER BY 2 DESC\"\"\")\n",
    "\n",
    "labels.show()"
   ]
  },
  {
   "cell_type": "code",
   "execution_count": 29,
   "metadata": {},
   "outputs": [
    {
     "data": {
      "image/png": "[encoded data removed]",
      "text/plain": [
       "<Figure size 432x288 with 1 Axes>"
      ]
     },
     "metadata": {},
     "output_type": "display_data"
    },
    {
     "data": {
      "image/png": "[encoded data removed]",
      "text/plain": [
       "<Figure size 432x288 with 1 Axes>"
      ]
     },
     "metadata": {
      "needs_background": "light"
     },
     "output_type": "display_data"
    }
   ],
   "source": [
    "#plotting a chart\n",
    "labels_df = pd.DataFrame(labels.toPandas())\n",
    "labels_df.set_index(\"label\",drop=True,inplace=True)\n",
    "labels_fig = labels_df.plot(kind='barh')\n",
    "plt.rcParams[\"figure.figsize\"]=(7,5)\n",
    "plt.rcParams.update({'font.size': 10})\n",
    "plt.tight_layout()\n",
    "display(labels_fig.figure)"
   ]
  },
  {
   "cell_type": "code",
   "execution_count": 30,
   "metadata": {},
   "outputs": [
    {
     "name": "stdout",
     "output_type": "stream",
     "text": [
      "+-------------+---------+------+\n",
      "|protocol_type|    state|  freq|\n",
      "+-------------+---------+------+\n",
      "|         icmp|   attack|282314|\n",
      "|          tcp|   attack|113252|\n",
      "|          tcp|no attack| 76813|\n",
      "|          udp|no attack| 19177|\n",
      "|         icmp|no attack|  1288|\n",
      "|          udp|   attack|  1177|\n",
      "+-------------+---------+------+\n",
      "\n"
     ]
    }
   ],
   "source": [
    "#attack_protocol\n",
    "\n",
    "attack_protocol=spark.sql(\"\"\"\n",
    "                            SELECT \n",
    "                             protocol_type, \n",
    "                             CASE label\n",
    "                               WHEN 'normal.' THEN 'no attack'\n",
    "                               ELSE 'attack'\n",
    "                             END AS state,\n",
    "                             COUNT(*) as freq\n",
    "                           FROM connections\n",
    "                           GROUP BY protocol_type, state\n",
    "                           ORDER BY 3 DESC\n",
    "                           \"\"\")\n",
    "\n",
    "attack_protocol.show()"
   ]
  },
  {
   "cell_type": "code",
   "execution_count": 32,
   "metadata": {},
   "outputs": [
    {
     "name": "stdout",
     "output_type": "stream",
     "text": [
      "+-------------+---------+----------+--------------+--------------+-------------+-------------------+-----------------+--------------------+-------------------+------------------+\n",
      "|protocol_type|    state|total_freq|mean_src_bytes|mean_dst_bytes|mean_duration|total_failed_logins|total_compromised|total_file_creations|total_root_attempts|total_root_acceses|\n",
      "+-------------+---------+----------+--------------+--------------+-------------+-------------------+-----------------+--------------------+-------------------+------------------+\n",
      "|         icmp|   attack|    282314|        932.14|           0.0|          0.0|                  0|                0|                   0|                0.0|                 0|\n",
      "|          tcp|   attack|    113252|       9880.38|        881.41|        23.19|                 57|             2269|                  76|                1.0|               152|\n",
      "|          tcp|no attack|     76813|       1439.31|       4263.97|        11.08|                 18|             2776|                 459|               17.0|              5456|\n",
      "|          udp|no attack|     19177|         98.01|         89.89|      1054.63|                  0|                0|                   0|                0.0|                 0|\n",
      "|         icmp|no attack|      1288|         91.47|           0.0|          0.0|                  0|                0|                   0|                0.0|                 0|\n",
      "|          udp|   attack|      1177|          27.5|          0.23|          0.0|                  0|                0|                   0|                0.0|                 0|\n",
      "+-------------+---------+----------+--------------+--------------+-------------+-------------------+-----------------+--------------------+-------------------+------------------+\n",
      "\n"
     ]
    }
   ],
   "source": [
    "attack_stats = spark.sql(\"\"\"\n",
    "                    SELECT \n",
    "                             protocol_type, \n",
    "                             CASE label\n",
    "                               WHEN 'normal.' THEN 'no attack'\n",
    "                               ELSE 'attack'\n",
    "                             END AS state,\n",
    "                             COUNT(*) as total_freq,\n",
    "                             ROUND(AVG(src_bytes), 2) as mean_src_bytes,\n",
    "                             ROUND(AVG(dst_bytes), 2) as mean_dst_bytes,\n",
    "                             ROUND(AVG(duration), 2) as mean_duration,\n",
    "                             SUM(num_failed_logins) as total_failed_logins,\n",
    "                             SUM(num_compromised) as total_compromised,\n",
    "                             SUM(num_file_creations) as total_file_creations,\n",
    "                             SUM(su_attempted) as total_root_attempts,\n",
    "                             SUM(num_root) as total_root_acceses\n",
    "                           FROM connections\n",
    "                           GROUP BY protocol_type, state\n",
    "                           ORDER BY 3 DESC\n",
    "\"\"\")\n",
    "attack_stats.show()"
   ]
  },
  {
   "cell_type": "code",
   "execution_count": 33,
   "metadata": {},
   "outputs": [
    {
     "name": "stdout",
     "output_type": "stream",
     "text": [
      "+----------+------------+----------+-------------+-------------------+--------------------+-------------------+------------------+\n",
      "|   service| attack_type|total_freq|mean_duration|total_failed_logins|total_file_creations|total_root_attempts|total_root_acceses|\n",
      "+----------+------------+----------+-------------+-------------------+--------------------+-------------------+------------------+\n",
      "|   private|    neptune.|    101317|          0.0|                  0|                   0|                0.0|                 0|\n",
      "|      http|       back.|      2203|         0.13|                  0|                   0|                0.0|                 0|\n",
      "|     other|      satan.|      1221|          0.0|                  0|                   0|                0.0|                 0|\n",
      "|   private|  portsweep.|       725|      1915.81|                  0|                   0|                0.0|                 0|\n",
      "|  ftp_data|warezclient.|       708|       403.71|                  0|                   0|                0.0|                 0|\n",
      "|       ftp|warezclient.|       307|      1063.79|                  0|                   0|                0.0|                 0|\n",
      "|     other|  portsweep.|       260|      1058.22|                  0|                   0|                0.0|                 0|\n",
      "|    telnet|    neptune.|       197|          0.0|                  0|                   0|                0.0|                 0|\n",
      "|      http|    neptune.|       192|          0.0|                  0|                   0|                0.0|                 0|\n",
      "|    finger|    neptune.|       177|          0.0|                  0|                   0|                0.0|                 0|\n",
      "|   private|      satan.|       170|         0.05|                  0|                   0|                0.0|                 0|\n",
      "|  ftp_data|    neptune.|       170|          0.0|                  0|                   0|                0.0|                 0|\n",
      "|  csnet_ns|    neptune.|       123|          0.0|                  0|                   0|                0.0|                 0|\n",
      "|      smtp|    neptune.|       120|          0.0|                  0|                   0|                0.0|                 0|\n",
      "|remote_job|    neptune.|       118|          0.0|                  0|                   0|                0.0|                 0|\n",
      "|     pop_3|    neptune.|       118|          0.0|                  0|                   0|                0.0|                 0|\n",
      "|   discard|    neptune.|       115|          0.0|                  0|                   0|                0.0|                 0|\n",
      "|  iso_tsap|    neptune.|       115|          0.0|                  0|                   0|                0.0|                 0|\n",
      "|    systat|    neptune.|       113|          0.0|                  0|                   0|                0.0|                 0|\n",
      "|    domain|    neptune.|       112|          0.0|                  0|                   0|                0.0|                 0|\n",
      "+----------+------------+----------+-------------+-------------------+--------------------+-------------------+------------------+\n",
      "only showing top 20 rows\n",
      "\n"
     ]
    }
   ],
   "source": [
    "tcp_attack_stats = spark.sql(\"\"\"\n",
    "                         SELECT \n",
    "                                     service,\n",
    "                                     label as attack_type,\n",
    "                                     COUNT(*) as total_freq,\n",
    "                                     ROUND(AVG(duration), 2) as mean_duration,\n",
    "                                     SUM(num_failed_logins) as total_failed_logins,\n",
    "                                     SUM(num_file_creations) as total_file_creations,\n",
    "                                     SUM(su_attempted) as total_root_attempts,\n",
    "                                     SUM(num_root) as total_root_acceses\n",
    "                                   FROM connections\n",
    "                                   WHERE protocol_type = 'tcp'\n",
    "                                   AND label != 'normal.'\n",
    "                                   GROUP BY service, attack_type\n",
    "                                   ORDER BY total_freq DESC\n",
    "                                   \"\"\")\n",
    "tcp_attack_stats.show()"
   ]
  },
  {
   "cell_type": "code",
   "execution_count": 34,
   "metadata": {},
   "outputs": [
    {
     "name": "stdout",
     "output_type": "stream",
     "text": [
      "+-------+----------------+----------+-------------+-------------------+--------------------+-------------------+------------------+\n",
      "|service|     attack_type|total_freq|mean_duration|total_failed_logins|total_file_creations|total_root_attempts|total_root_acceses|\n",
      "+-------+----------------+----------+-------------+-------------------+--------------------+-------------------+------------------+\n",
      "| telnet|buffer_overflow.|        21|       130.67|                  0|                  15|                0.0|                 5|\n",
      "| telnet|     loadmodule.|         5|         63.8|                  0|                   9|                0.0|                 3|\n",
      "| telnet|       multihop.|         2|        458.0|                  0|                   8|                0.0|                93|\n",
      "+-------+----------------+----------+-------------+-------------------+--------------------+-------------------+------------------+\n",
      "\n"
     ]
    }
   ],
   "source": [
    "tcp_attack_stats = spark.sql(\"\"\"\n",
    "                                   SELECT \n",
    "                                     service,\n",
    "                                     label as attack_type,\n",
    "                                     COUNT(*) as total_freq,\n",
    "                                     ROUND(AVG(duration), 2) as mean_duration,\n",
    "                                     SUM(num_failed_logins) as total_failed_logins,\n",
    "                                     SUM(num_file_creations) as total_file_creations,\n",
    "                                     SUM(su_attempted) as total_root_attempts,\n",
    "                                     SUM(num_root) as total_root_acceses\n",
    "                                   FROM connections\n",
    "                                   WHERE (protocol_type = 'tcp'\n",
    "                                          AND label != 'normal.')\n",
    "                                   GROUP BY service, attack_type\n",
    "                                   HAVING (mean_duration >= 50\n",
    "                                           AND total_file_creations >= 5\n",
    "                                           AND total_root_acceses >= 1)\n",
    "                                   ORDER BY total_freq DESC\n",
    "                                   \"\"\")\n",
    "tcp_attack_stats.show()"
   ]
  },
  {
   "cell_type": "code",
   "execution_count": 35,
   "metadata": {},
   "outputs": [
    {
     "name": "stdout",
     "output_type": "stream",
     "text": [
      "+--------+----------------+----------+\n",
      "| service|     attack_type|total_freq|\n",
      "+--------+----------------+----------+\n",
      "|    http|           back.|      2203|\n",
      "| private|      portsweep.|       725|\n",
      "|ftp_data|    warezclient.|       708|\n",
      "|     ftp|    warezclient.|       307|\n",
      "|   other|      portsweep.|       260|\n",
      "| private|          satan.|       170|\n",
      "|  telnet|   guess_passwd.|        53|\n",
      "|  telnet|buffer_overflow.|        21|\n",
      "|ftp_data|    warezmaster.|        18|\n",
      "|   imap4|           imap.|        12|\n",
      "|   other|    warezclient.|         5|\n",
      "|  telnet|     loadmodule.|         5|\n",
      "|  telnet|        rootkit.|         5|\n",
      "|    http|            phf.|         4|\n",
      "|  supdup|      portsweep.|         4|\n",
      "|csnet_ns|      portsweep.|         3|\n",
      "|   pop_3|      portsweep.|         3|\n",
      "|    http|        ipsweep.|         3|\n",
      "|    http|      portsweep.|         3|\n",
      "|  gopher|        ipsweep.|         3|\n",
      "+--------+----------------+----------+\n",
      "only showing top 20 rows\n",
      "\n"
     ]
    }
   ],
   "source": [
    "tcp_attack_stats = spark.sql(\"\"\"\n",
    "                                   SELECT \n",
    "                                     t.service,\n",
    "                                     t.attack_type,\n",
    "                                     t.total_freq\n",
    "                                   FROM\n",
    "                                   (SELECT \n",
    "                                     service,\n",
    "                                     label as attack_type,\n",
    "                                     COUNT(*) as total_freq,\n",
    "                                     ROUND(AVG(duration), 2) as mean_duration,\n",
    "                                     SUM(num_failed_logins) as total_failed_logins,\n",
    "                                     SUM(num_file_creations) as total_file_creations,\n",
    "                                     SUM(su_attempted) as total_root_attempts,\n",
    "                                     SUM(num_root) as total_root_acceses\n",
    "                                   FROM connections\n",
    "                                   WHERE protocol_type = 'tcp'\n",
    "                                   AND label != 'normal.'\n",
    "                                   GROUP BY service, attack_type\n",
    "                                   ORDER BY total_freq DESC) as t\n",
    "                                     WHERE t.mean_duration > 0 \n",
    "                                   \"\"\")\n",
    "tcp_attack_stats.show()"
   ]
  },
  {
   "cell_type": "code",
   "execution_count": 37,
   "metadata": {},
   "outputs": [
    {
     "name": "stdout",
     "output_type": "stream",
     "text": [
      "+---------+-----+----------------+----------+-------------+-----+--------+-----------+---------+-----+----+----------+--------+------+----+------------+------------+\n",
      "|  service|back.|buffer_overflow.|ftp_write.|guess_passwd.|imap.|ipsweep.|loadmodule.|multihop.|perl.|phf.|portsweep.|rootkit.|satan.|spy.|warezclient.|warezmaster.|\n",
      "+---------+-----+----------------+----------+-------------+-----+--------+-----------+---------+-----+----+----------+--------+------+----+------------+------------+\n",
      "|   telnet|    0|              21|         0|           53|    0|       1|          5|        2|    3|   0|         0|       5|     1|   2|           0|           0|\n",
      "|      ftp|    0|               1|         2|            0|    0|       1|          1|        2|    0|   0|         0|       1|     1|   0|         307|           2|\n",
      "|    pop_3|    0|               0|         0|            0|    0|       0|          0|        0|    0|   0|         3|       0|     1|   0|           0|           0|\n",
      "|  discard|    0|               0|         0|            0|    0|       0|          0|        0|    0|   0|         0|       0|     1|   0|           0|           0|\n",
      "|    login|    0|               0|         2|            0|    0|       0|          0|        0|    0|   0|         0|       0|     0|   0|           0|           0|\n",
      "|     smtp|    0|               0|         0|            0|    0|       0|          0|        0|    0|   0|         0|       0|     2|   0|           0|           0|\n",
      "|   domain|    0|               0|         0|            0|    0|       1|          0|        0|    0|   0|         0|       0|     0|   0|           0|           0|\n",
      "|     http| 2203|               0|         0|            0|    0|       3|          0|        0|    0|   4|         3|       0|     0|   0|           0|           0|\n",
      "|  courier|    0|               0|         0|            0|    0|       0|          0|        0|    0|   0|         1|       0|     0|   0|           0|           0|\n",
      "|    other|    0|               0|         0|            0|    0|       0|          0|        0|    0|   0|       260|       0|     0|   0|           5|           0|\n",
      "|      efs|    0|               0|         0|            0|    0|       0|          0|        0|    0|   0|         1|       0|     0|   0|           0|           0|\n",
      "|  private|    0|               0|         0|            0|    0|       0|          0|        0|    0|   0|       725|       0|   170|   0|           0|           0|\n",
      "| ftp_data|    0|               0|         0|            0|    0|       0|          0|        3|    0|   0|         2|       0|     0|   0|         708|          18|\n",
      "|    whois|    0|               0|         0|            0|    0|       0|          0|        0|    0|   0|         2|       0|     0|   0|           0|           0|\n",
      "|     nntp|    0|               0|         0|            0|    0|       0|          0|        0|    0|   0|         0|       0|     1|   0|           0|           0|\n",
      "|uucp_path|    0|               0|         0|            0|    0|       0|          0|        0|    0|   0|         1|       0|     0|   0|           0|           0|\n",
      "|   supdup|    0|               0|         0|            0|    0|       0|          0|        0|    0|   0|         4|       0|     0|   0|           0|           0|\n",
      "|   finger|    0|               0|         0|            0|    0|       1|          0|        0|    0|   0|         1|       0|     3|   0|           0|           0|\n",
      "|  printer|    0|               0|         0|            0|    0|       0|          0|        0|    0|   0|         2|       0|     0|   0|           0|           0|\n",
      "|     time|    0|               0|         0|            0|    0|       2|          0|        0|    0|   0|         0|       0|     0|   0|           0|           0|\n",
      "+---------+-----+----------------+----------+-------------+-----+--------+-----------+---------+-----+----+----------+--------+------+----+------------+------------+\n",
      "only showing top 20 rows\n",
      "\n"
     ]
    }
   ],
   "source": [
    "(tcp_attack_stats.groupby('service')\n",
    "                         .pivot('attack_type')\n",
    "                         .agg({'total_freq':'max'})\n",
    "                         .na.fill(0)).show()"
   ]
  },
  {
   "cell_type": "code",
   "execution_count": null,
   "metadata": {},
   "outputs": [],
   "source": []
  }
 ],
 "metadata": {
  "kernelspec": {
   "display_name": "Python 3",
   "language": "python",
   "name": "python3"
  },
  "language_info": {
   "codemirror_mode": {
    "name": "ipython",
    "version": 3
   },
   "file_extension": ".py",
   "mimetype": "text/x-python",
   "name": "python",
   "nbconvert_exporter": "python",
   "pygments_lexer": "ipython3",
   "version": "3.7.4"
  }
 },
 "nbformat": 4,
 "nbformat_minor": 2
}
